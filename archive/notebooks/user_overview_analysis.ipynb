{
 "cells": [
  {
   "cell_type": "markdown",
   "metadata": {},
   "source": [
    "# Telecom User Overview Analysis\n",
    "\n",
    "This notebook contains the comprehensive analysis of telecom user data focusing on:\n",
    "1. Handset Analysis\n",
    "2. User Application Behavior\n",
    "3. Exploratory Data Analysis\n",
    "4. Statistical Analysis"
   ]
  },
  {
   "cell_type": "code",
   "execution_count": null,
   "metadata": {},
   "outputs": [],
   "source": [
    "# Import necessary libraries\n",
    "import pandas as pd\n",
    "import numpy as np\n",
    "import matplotlib.pyplot as plt\n",
    "import seaborn as sns\n",
    "from sklearn.preprocessing import StandardScaler\n",
    "from sklearn.decomposition import PCA\n",
    "\n",
    "# Set plotting style\n",
    "plt.style.use('seaborn')\n",
    "sns.set_palette('husl')\n",
    "\n",
    "# Display settings\n",
    "pd.set_option('display.max_columns', None)\n",
    "pd.set_option('display.max_rows', 100)"
   ]
  },
  {
   "cell_type": "markdown",
   "metadata": {},
   "source": [
    "## 1. Data Loading and Initial Exploration"
   ]
  },
  {
   "cell_type": "code",
   "execution_count": null,
   "metadata": {},
   "outputs": [],
   "source": [
    "# Load the datasets\n",
    "# Note: Update these paths with your actual data file paths\n",
    "# handset_data = pd.read_csv('path_to_handset_data.csv')\n",
    "# xdr_data = pd.read_csv('path_to_xdr_data.csv')"
   ]
  },
  {
   "cell_type": "markdown",
   "metadata": {},
   "source": [
    "## 2. Handset Analysis\n",
    "\n",
    "### 2.1 Top 10 Handsets"
   ]
  },
  {
   "cell_type": "code",
   "execution_count": null,
   "metadata": {},
   "outputs": [],
   "source": [
    "def analyze_top_handsets(df, n=10):\n",
    "    \"\"\"Analyze top n handsets\"\"\"\n",
    "    top_handsets = df['handset_type'].value_counts().head(n)\n",
    "    \n",
    "    plt.figure(figsize=(12, 6))\n",
    "    sns.barplot(x=top_handsets.values, y=top_handsets.index)\n",
    "    plt.title(f'Top {n} Handsets')\n",
    "    plt.xlabel('Count')\n",
    "    plt.ylabel('Handset Type')\n",
    "    plt.show()\n",
    "    \n",
    "    return top_handsets"
   ]
  },
  {
   "cell_type": "markdown",
   "metadata": {},
   "source": [
    "### 2.2 Top 3 Manufacturers"
   ]
  },
  {
   "cell_type": "code",
   "execution_count": null,
   "metadata": {},
   "outputs": [],
   "source": [
    "def analyze_manufacturers(df, n=3):\n",
    "    \"\"\"Analyze top n manufacturers\"\"\"\n",
    "    top_manufacturers = df['manufacturer'].value_counts().head(n)\n",
    "    \n",
    "    plt.figure(figsize=(10, 6))\n",
    "    sns.barplot(x=top_manufacturers.values, y=top_manufacturers.index)\n",
    "    plt.title(f'Top {n} Manufacturers')\n",
    "    plt.xlabel('Count')\n",
    "    plt.ylabel('Manufacturer')\n",
    "    plt.show()\n",
    "    \n",
    "    return top_manufacturers"
   ]
  },
  {
   "cell_type": "markdown",
   "metadata": {},
   "source": [
    "## 3. User Application Behavior Analysis"
   ]
  },
  {
   "cell_type": "code",
   "execution_count": null,
   "metadata": {},
   "outputs": [],
   "source": [
    "def aggregate_user_behavior(df):\n",
    "    \"\"\"Aggregate user behavior metrics\"\"\"\n",
    "    user_metrics = df.groupby('user_id').agg({\n",
    "        'session_id': 'count',  # number of xDR sessions\n",
    "        'duration': 'sum',      # total session duration\n",
    "        'download_data': 'sum', # total download\n",
    "        'upload_data': 'sum',   # total upload\n",
    "    }).reset_index()\n",
    "    \n",
    "    # Add total data volume\n",
    "    user_metrics['total_data'] = user_metrics['download_data'] + user_metrics['upload_data']\n",
    "    \n",
    "    return user_metrics"
   ]
  },
  {
   "cell_type": "markdown",
   "metadata": {},
   "source": [
    "## 4. Exploratory Data Analysis"
   ]
  },
  {
   "cell_type": "code",
   "execution_count": null,
   "metadata": {},
   "outputs": [],
   "source": [
    "def perform_eda(df):\n",
    "    \"\"\"Perform exploratory data analysis\"\"\"\n",
    "    # Basic statistics\n",
    "    print(\"\\nBasic Statistics:\")\n",
    "    print(df.describe())\n",
    "    \n",
    "    # Missing values analysis\n",
    "    print(\"\\nMissing Values:\")\n",
    "    print(df.isnull().sum())\n",
    "    \n",
    "    # Data types\n",
    "    print(\"\\nData Types:\")\n",
    "    print(df.dtypes)"
   ]
  },
  {
   "cell_type": "markdown",
   "metadata": {},
   "source": [
    "## 5. Statistical Analysis"
   ]
  },
  {
   "cell_type": "code",
   "execution_count": null,
   "metadata": {},
   "outputs": [],
   "source": [
    "def correlation_analysis(df):\n",
    "    \"\"\"Perform correlation analysis on application data\"\"\"\n",
    "    # Select relevant columns\n",
    "    app_columns = ['social_media_data', 'google_data', 'email_data', \n",
    "                   'youtube_data', 'netflix_data', 'gaming_data', 'other_data']\n",
    "    \n",
    "    # Compute correlation matrix\n",
    "    corr_matrix = df[app_columns].corr()\n",
    "    \n",
    "    # Plot correlation heatmap\n",
    "    plt.figure(figsize=(10, 8))\n",
    "    sns.heatmap(corr_matrix, annot=True, cmap='coolwarm', center=0)\n",
    "    plt.title('Correlation Matrix of Application Data')\n",
    "    plt.show()\n",
    "    \n",
    "    return corr_matrix"
   ]
  },
  {
   "cell_type": "markdown",
   "metadata": {},
   "source": [
    "## 6. Dimensionality Reduction"
   ]
  },
  {
   "cell_type": "code",
   "execution_count": null,
   "metadata": {},
   "outputs": [],
   "source": [
    "def perform_pca(df):\n",
    "    \"\"\"Perform PCA on the dataset\"\"\"\n",
    "    # Select numerical columns\n",
    "    numerical_cols = df.select_dtypes(include=[np.number]).columns\n",
    "    \n",
    "    # Scale the data\n",
    "    scaler = StandardScaler()\n",
    "    scaled_data = scaler.fit_transform(df[numerical_cols])\n",
    "    \n",
    "    # Perform PCA\n",
    "    pca = PCA()\n",
    "    pca_result = pca.fit_transform(scaled_data)\n",
    "    \n",
    "    # Plot explained variance ratio\n",
    "    plt.figure(figsize=(10, 6))\n",
    "    plt.plot(range(1, len(pca.explained_variance_ratio_) + 1), \n",
    "             np.cumsum(pca.explained_variance_ratio_))\n",
    "    plt.xlabel('Number of Components')\n",
    "    plt.ylabel('Cumulative Explained Variance Ratio')\n",
    "    plt.title('PCA Analysis')\n",
    "    plt.show()\n",
    "    \n",
    "    return pca"
   ]
  }
 ],
 "metadata": {
  "kernelspec": {
   "display_name": "venv",
   "language": "python",
   "name": "python3"
  },
  "language_info": {
   "codemirror_mode": {
    "name": "ipython",
    "version": 3
   },
   "file_extension": ".py",
   "mimetype": "text/x-python",
   "name": "python",
   "nbconvert_exporter": "python",
   "pygments_lexer": "ipython3",
   "version": "3.12.7"
  }
 },
 "nbformat": 4,
 "nbformat_minor": 4
}
